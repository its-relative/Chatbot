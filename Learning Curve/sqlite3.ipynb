{
 "cells": [
  {
   "cell_type": "code",
   "execution_count": 44,
   "metadata": {},
   "outputs": [],
   "source": [
    "import sqlite3\n",
    "import time\n",
    "import datetime\n",
    "import random"
   ]
  },
  {
   "cell_type": "code",
   "execution_count": 45,
   "metadata": {},
   "outputs": [],
   "source": [
    "conn = sqlite3.connect(\"test.db\")\n",
    "c = conn.cursor()\n"
   ]
  },
  {
   "cell_type": "code",
   "execution_count": 46,
   "metadata": {},
   "outputs": [],
   "source": [
    "def create_table():\n",
    "    c.execute(\"\"\"CREATE TABLE IF NOT EXISTS stuffToPlot(\n",
    "              unix REAL, date_time TEXT, keyword TEXT, value REAL\n",
    "    )\"\"\")\n",
    "    # c.close()\n",
    "    # conn.close()\n",
    "\n",
    "def insert_data():\n",
    "    c.execute(\"\"\"INSERT INTO stuffToPlot VALUES(\n",
    "              1231, '10-12-21', 'python',9 \n",
    "    )\"\"\")\n",
    "    conn.commit()\n",
    "    c.close()\n",
    "    conn.close()\n",
    "\n",
    "\n",
    "def dynamicInsertor():\n",
    "    unix = time.time()\n",
    "    date_time = str(datetime.datetime.fromtimestamp(unix).strftime('%Y-%m-%d %H:%M:%S'))\n",
    "    keyword = \"python\"\n",
    "    value = random.randrange(0,10)\n",
    "    c.execute(\"\"\"INSERT INTO stuffToPlot (unix,date_time,keyword,value)\n",
    "              VALUES (?,?,?,?)\n",
    "              \"\"\",\n",
    "              (unix,date_time,keyword,value))\n",
    "    conn.commit()\n",
    "    \n",
    "    "
   ]
  },
  {
   "cell_type": "code",
   "execution_count": 47,
   "metadata": {},
   "outputs": [
    {
     "ename": "OperationalError",
     "evalue": "database is locked",
     "output_type": "error",
     "traceback": [
      "\u001b[0;31m---------------------------------------------------------------------------\u001b[0m",
      "\u001b[0;31mOperationalError\u001b[0m                          Traceback (most recent call last)",
      "Cell \u001b[0;32mIn[47], line 5\u001b[0m\n\u001b[1;32m      3\u001b[0m \u001b[38;5;66;03m# insert_data()\u001b[39;00m\n\u001b[1;32m      4\u001b[0m \u001b[38;5;28;01mfor\u001b[39;00m i \u001b[38;5;129;01min\u001b[39;00m \u001b[38;5;28mrange\u001b[39m(\u001b[38;5;241m0\u001b[39m,\u001b[38;5;241m10\u001b[39m):\n\u001b[0;32m----> 5\u001b[0m     \u001b[43mdynamicInsertor\u001b[49m\u001b[43m(\u001b[49m\u001b[43m)\u001b[49m\n\u001b[1;32m      6\u001b[0m     time\u001b[38;5;241m.\u001b[39msleep(\u001b[38;5;241m1\u001b[39m)\n\u001b[1;32m      7\u001b[0m \u001b[38;5;66;03m# c.close()\u001b[39;00m\n\u001b[1;32m      8\u001b[0m \u001b[38;5;66;03m# conn.close()\u001b[39;00m\n",
      "Cell \u001b[0;32mIn[46], line 22\u001b[0m, in \u001b[0;36mdynamicInsertor\u001b[0;34m()\u001b[0m\n\u001b[1;32m     20\u001b[0m keyword \u001b[38;5;241m=\u001b[39m \u001b[38;5;124m\"\u001b[39m\u001b[38;5;124mpython\u001b[39m\u001b[38;5;124m\"\u001b[39m\n\u001b[1;32m     21\u001b[0m value \u001b[38;5;241m=\u001b[39m random\u001b[38;5;241m.\u001b[39mrandrange(\u001b[38;5;241m0\u001b[39m,\u001b[38;5;241m10\u001b[39m)\n\u001b[0;32m---> 22\u001b[0m \u001b[43mc\u001b[49m\u001b[38;5;241;43m.\u001b[39;49m\u001b[43mexecute\u001b[49m\u001b[43m(\u001b[49m\u001b[38;5;124;43m\"\"\"\u001b[39;49m\u001b[38;5;124;43mINSERT INTO stuffToPlot (unix,date_time,keyword,value)\u001b[39;49m\n\u001b[1;32m     23\u001b[0m \u001b[38;5;124;43m          VALUES (?,?,?,?)\u001b[39;49m\n\u001b[1;32m     24\u001b[0m \u001b[38;5;124;43m          \u001b[39;49m\u001b[38;5;124;43m\"\"\"\u001b[39;49m\u001b[43m,\u001b[49m\n\u001b[1;32m     25\u001b[0m \u001b[43m          \u001b[49m\u001b[43m(\u001b[49m\u001b[43munix\u001b[49m\u001b[43m,\u001b[49m\u001b[43mdate_time\u001b[49m\u001b[43m,\u001b[49m\u001b[43mkeyword\u001b[49m\u001b[43m,\u001b[49m\u001b[43mvalue\u001b[49m\u001b[43m)\u001b[49m\u001b[43m)\u001b[49m\n\u001b[1;32m     26\u001b[0m conn\u001b[38;5;241m.\u001b[39mcommit()\n",
      "\u001b[0;31mOperationalError\u001b[0m: database is locked"
     ]
    }
   ],
   "source": [
    "if __name__ == \"__main__\":\n",
    "    create_table()\n",
    "    # insert_data()\n",
    "    for i in range(0,10):\n",
    "        dynamicInsertor()\n",
    "        time.sleep(1)\n",
    "    # c.close()\n",
    "    # conn.close()\n"
   ]
  },
  {
   "cell_type": "code",
   "execution_count": null,
   "metadata": {},
   "outputs": [],
   "source": []
  }
 ],
 "metadata": {
  "kernelspec": {
   "display_name": "Python 3",
   "language": "python",
   "name": "python3"
  },
  "language_info": {
   "codemirror_mode": {
    "name": "ipython",
    "version": 3
   },
   "file_extension": ".py",
   "mimetype": "text/x-python",
   "name": "python",
   "nbconvert_exporter": "python",
   "pygments_lexer": "ipython3",
   "version": "3.10.12"
  }
 },
 "nbformat": 4,
 "nbformat_minor": 2
}
