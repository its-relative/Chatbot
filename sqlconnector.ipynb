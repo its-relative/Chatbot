{
 "cells": [
  {
   "cell_type": "code",
   "execution_count": 11,
   "metadata": {},
   "outputs": [],
   "source": [
    "import sqlite3\n",
    "import json\n",
    "# from datetime import datetime"
   ]
  },
  {
   "cell_type": "code",
   "execution_count": 2,
   "metadata": {},
   "outputs": [],
   "source": [
    "database_name = \"2015-01\"\n",
    "conn = sqlite3.connect(\"{}.db\".format(database_name))\n",
    "c = conn.cursor()"
   ]
  },
  {
   "cell_type": "code",
   "execution_count": 34,
   "metadata": {},
   "outputs": [],
   "source": [
    "def create_table():\n",
    "    c.execute(\"\"\"CREATE TABLE IF NOT EXISTS parent_reply(\n",
    "              parent_id TEXT PRIMARY KEY,comment_id TEXT UNIQUE,\n",
    "              parent TEXT ,comment TEXT ,subreddit TEXT, \n",
    "              unix INT, score INT)\"\"\")\n",
    "\n",
    "def format_data(data):\n",
    "    data = data.replace(\"\\n\",\" newlinechar \").replace(\"\\r\",\" newlinechar \").replace('\"',\"'\")\n",
    "    return data\n",
    "\n",
    "def find_parent(pid):\n",
    "    # pass\n",
    "    try:\n",
    "        c.execute(f\"SELECT comment FROM parent_reply WHERE comment_id = {pid} LIMIT 1\")\n",
    "        result = c.fetchone()\n",
    "        if result != None:\n",
    "            return result[0]\n",
    "            # print(lines)\n",
    "        else:\n",
    "            return False            \n",
    "    except Exception as e:\n",
    "        if e:\n",
    "            return False"
   ]
  },
  {
   "cell_type": "code",
   "execution_count": 33,
   "metadata": {},
   "outputs": [],
   "source": [
    "if __name__== \"__main__\":\n",
    "    create_table()\n",
    "    row_counter = 0\n",
    "    paired_counter = 0\n",
    "    with open(\"/media/its_relative/New Volume/Torrents/RC_{}\".format(database_name), buffering = 1000) as f:\n",
    "        for rows in f:\n",
    "            # for i in (rows.split(\",\")):\n",
    "                # print(i)\n",
    "            # print((len(rows.split(\",\"))))\n",
    "            row_counter += 1\n",
    "            rows = json.loads(rows)\n",
    "            # print(rows[\"parent_id\"])\n",
    "            # print(rows.keys())\n",
    "            # ups = rows[\"ups\"]\n",
    "            parent_id = rows[\"parent_id\"]\n",
    "            body = format_data(rows[\"body\"])\n",
    "            created_utc = rows[\"created_utc\"]\n",
    "            score = rows[\"score\"]\n",
    "            subreddit = rows[\"subreddit\"]\n",
    "            parent = find_parent(parent_id)\n",
    "            # break\n",
    "            "
   ]
  },
  {
   "cell_type": "code",
   "execution_count": null,
   "metadata": {},
   "outputs": [],
   "source": []
  }
 ],
 "metadata": {
  "kernelspec": {
   "display_name": "Python 3",
   "language": "python",
   "name": "python3"
  },
  "language_info": {
   "codemirror_mode": {
    "name": "ipython",
    "version": 3
   },
   "file_extension": ".py",
   "mimetype": "text/x-python",
   "name": "python",
   "nbconvert_exporter": "python",
   "pygments_lexer": "ipython3",
   "version": "3.10.12"
  }
 },
 "nbformat": 4,
 "nbformat_minor": 2
}
